{
  "nbformat": 4,
  "nbformat_minor": 0,
  "metadata": {
    "colab": {
      "name": "Neural Network ML assignment.ipynb",
      "provenance": []
    },
    "kernelspec": {
      "name": "python3",
      "display_name": "Python 3"
    },
    "language_info": {
      "name": "python"
    }
  },
  "cells": [
    {
      "cell_type": "code",
      "source": [
        "import pandas as pd"
      ],
      "metadata": {
        "id": "cv42MPqOlMWE"
      },
      "execution_count": 1,
      "outputs": []
    },
    {
      "cell_type": "code",
      "execution_count": 2,
      "metadata": {
        "id": "vaMBnbw_jC0E"
      },
      "outputs": [],
      "source": [
        "bp = pd.read_csv('/content/backprop.csv')#Import data set"
      ]
    },
    {
      "cell_type": "code",
      "source": [
        "bp.head()#check the 1st five data"
      ],
      "metadata": {
        "colab": {
          "base_uri": "https://localhost:8080/",
          "height": 206
        },
        "id": "wHi6LKSTlRGq",
        "outputId": "34a594c2-2d81-4dd9-f986-7ebcb78ff233"
      },
      "execution_count": 3,
      "outputs": [
        {
          "output_type": "execute_result",
          "data": {
            "text/plain": [
              "   S.No            date  Temperature  Humidity  Light     CO2  HumidityRatio  \\\n",
              "0     1  2/4/2015 17:51        23.18   27.2720  426.0  721.25       0.004793   \n",
              "1     2  2/4/2015 17:51        23.15   27.2675  429.5  714.00       0.004783   \n",
              "2     3  2/4/2015 17:53        23.15   27.2450  426.0  713.50       0.004779   \n",
              "3     4  2/4/2015 17:54        23.15   27.2000  426.0  708.25       0.004772   \n",
              "4     5  2/4/2015 17:55        23.10   27.2000  426.0  704.50       0.004757   \n",
              "\n",
              "   Occupancy  \n",
              "0          1  \n",
              "1          1  \n",
              "2          1  \n",
              "3          1  \n",
              "4          1  "
            ],
            "text/html": [
              "\n",
              "  <div id=\"df-0df6e8c4-14a6-4047-9aed-8ce82f7bdd92\">\n",
              "    <div class=\"colab-df-container\">\n",
              "      <div>\n",
              "<style scoped>\n",
              "    .dataframe tbody tr th:only-of-type {\n",
              "        vertical-align: middle;\n",
              "    }\n",
              "\n",
              "    .dataframe tbody tr th {\n",
              "        vertical-align: top;\n",
              "    }\n",
              "\n",
              "    .dataframe thead th {\n",
              "        text-align: right;\n",
              "    }\n",
              "</style>\n",
              "<table border=\"1\" class=\"dataframe\">\n",
              "  <thead>\n",
              "    <tr style=\"text-align: right;\">\n",
              "      <th></th>\n",
              "      <th>S.No</th>\n",
              "      <th>date</th>\n",
              "      <th>Temperature</th>\n",
              "      <th>Humidity</th>\n",
              "      <th>Light</th>\n",
              "      <th>CO2</th>\n",
              "      <th>HumidityRatio</th>\n",
              "      <th>Occupancy</th>\n",
              "    </tr>\n",
              "  </thead>\n",
              "  <tbody>\n",
              "    <tr>\n",
              "      <th>0</th>\n",
              "      <td>1</td>\n",
              "      <td>2/4/2015 17:51</td>\n",
              "      <td>23.18</td>\n",
              "      <td>27.2720</td>\n",
              "      <td>426.0</td>\n",
              "      <td>721.25</td>\n",
              "      <td>0.004793</td>\n",
              "      <td>1</td>\n",
              "    </tr>\n",
              "    <tr>\n",
              "      <th>1</th>\n",
              "      <td>2</td>\n",
              "      <td>2/4/2015 17:51</td>\n",
              "      <td>23.15</td>\n",
              "      <td>27.2675</td>\n",
              "      <td>429.5</td>\n",
              "      <td>714.00</td>\n",
              "      <td>0.004783</td>\n",
              "      <td>1</td>\n",
              "    </tr>\n",
              "    <tr>\n",
              "      <th>2</th>\n",
              "      <td>3</td>\n",
              "      <td>2/4/2015 17:53</td>\n",
              "      <td>23.15</td>\n",
              "      <td>27.2450</td>\n",
              "      <td>426.0</td>\n",
              "      <td>713.50</td>\n",
              "      <td>0.004779</td>\n",
              "      <td>1</td>\n",
              "    </tr>\n",
              "    <tr>\n",
              "      <th>3</th>\n",
              "      <td>4</td>\n",
              "      <td>2/4/2015 17:54</td>\n",
              "      <td>23.15</td>\n",
              "      <td>27.2000</td>\n",
              "      <td>426.0</td>\n",
              "      <td>708.25</td>\n",
              "      <td>0.004772</td>\n",
              "      <td>1</td>\n",
              "    </tr>\n",
              "    <tr>\n",
              "      <th>4</th>\n",
              "      <td>5</td>\n",
              "      <td>2/4/2015 17:55</td>\n",
              "      <td>23.10</td>\n",
              "      <td>27.2000</td>\n",
              "      <td>426.0</td>\n",
              "      <td>704.50</td>\n",
              "      <td>0.004757</td>\n",
              "      <td>1</td>\n",
              "    </tr>\n",
              "  </tbody>\n",
              "</table>\n",
              "</div>\n",
              "      <button class=\"colab-df-convert\" onclick=\"convertToInteractive('df-0df6e8c4-14a6-4047-9aed-8ce82f7bdd92')\"\n",
              "              title=\"Convert this dataframe to an interactive table.\"\n",
              "              style=\"display:none;\">\n",
              "        \n",
              "  <svg xmlns=\"http://www.w3.org/2000/svg\" height=\"24px\"viewBox=\"0 0 24 24\"\n",
              "       width=\"24px\">\n",
              "    <path d=\"M0 0h24v24H0V0z\" fill=\"none\"/>\n",
              "    <path d=\"M18.56 5.44l.94 2.06.94-2.06 2.06-.94-2.06-.94-.94-2.06-.94 2.06-2.06.94zm-11 1L8.5 8.5l.94-2.06 2.06-.94-2.06-.94L8.5 2.5l-.94 2.06-2.06.94zm10 10l.94 2.06.94-2.06 2.06-.94-2.06-.94-.94-2.06-.94 2.06-2.06.94z\"/><path d=\"M17.41 7.96l-1.37-1.37c-.4-.4-.92-.59-1.43-.59-.52 0-1.04.2-1.43.59L10.3 9.45l-7.72 7.72c-.78.78-.78 2.05 0 2.83L4 21.41c.39.39.9.59 1.41.59.51 0 1.02-.2 1.41-.59l7.78-7.78 2.81-2.81c.8-.78.8-2.07 0-2.86zM5.41 20L4 18.59l7.72-7.72 1.47 1.35L5.41 20z\"/>\n",
              "  </svg>\n",
              "      </button>\n",
              "      \n",
              "  <style>\n",
              "    .colab-df-container {\n",
              "      display:flex;\n",
              "      flex-wrap:wrap;\n",
              "      gap: 12px;\n",
              "    }\n",
              "\n",
              "    .colab-df-convert {\n",
              "      background-color: #E8F0FE;\n",
              "      border: none;\n",
              "      border-radius: 50%;\n",
              "      cursor: pointer;\n",
              "      display: none;\n",
              "      fill: #1967D2;\n",
              "      height: 32px;\n",
              "      padding: 0 0 0 0;\n",
              "      width: 32px;\n",
              "    }\n",
              "\n",
              "    .colab-df-convert:hover {\n",
              "      background-color: #E2EBFA;\n",
              "      box-shadow: 0px 1px 2px rgba(60, 64, 67, 0.3), 0px 1px 3px 1px rgba(60, 64, 67, 0.15);\n",
              "      fill: #174EA6;\n",
              "    }\n",
              "\n",
              "    [theme=dark] .colab-df-convert {\n",
              "      background-color: #3B4455;\n",
              "      fill: #D2E3FC;\n",
              "    }\n",
              "\n",
              "    [theme=dark] .colab-df-convert:hover {\n",
              "      background-color: #434B5C;\n",
              "      box-shadow: 0px 1px 3px 1px rgba(0, 0, 0, 0.15);\n",
              "      filter: drop-shadow(0px 1px 2px rgba(0, 0, 0, 0.3));\n",
              "      fill: #FFFFFF;\n",
              "    }\n",
              "  </style>\n",
              "\n",
              "      <script>\n",
              "        const buttonEl =\n",
              "          document.querySelector('#df-0df6e8c4-14a6-4047-9aed-8ce82f7bdd92 button.colab-df-convert');\n",
              "        buttonEl.style.display =\n",
              "          google.colab.kernel.accessAllowed ? 'block' : 'none';\n",
              "\n",
              "        async function convertToInteractive(key) {\n",
              "          const element = document.querySelector('#df-0df6e8c4-14a6-4047-9aed-8ce82f7bdd92');\n",
              "          const dataTable =\n",
              "            await google.colab.kernel.invokeFunction('convertToInteractive',\n",
              "                                                     [key], {});\n",
              "          if (!dataTable) return;\n",
              "\n",
              "          const docLinkHtml = 'Like what you see? Visit the ' +\n",
              "            '<a target=\"_blank\" href=https://colab.research.google.com/notebooks/data_table.ipynb>data table notebook</a>'\n",
              "            + ' to learn more about interactive tables.';\n",
              "          element.innerHTML = '';\n",
              "          dataTable['output_type'] = 'display_data';\n",
              "          await google.colab.output.renderOutput(dataTable, element);\n",
              "          const docLink = document.createElement('div');\n",
              "          docLink.innerHTML = docLinkHtml;\n",
              "          element.appendChild(docLink);\n",
              "        }\n",
              "      </script>\n",
              "    </div>\n",
              "  </div>\n",
              "  "
            ]
          },
          "metadata": {},
          "execution_count": 3
        }
      ]
    },
    {
      "cell_type": "code",
      "source": [
        "bp.shape#sahpe of the data"
      ],
      "metadata": {
        "colab": {
          "base_uri": "https://localhost:8080/"
        },
        "id": "FkjVSDWFlT0H",
        "outputId": "f18b9a76-d192-44b7-b4e9-638c7d3827a8"
      },
      "execution_count": 5,
      "outputs": [
        {
          "output_type": "execute_result",
          "data": {
            "text/plain": [
              "(8143, 8)"
            ]
          },
          "metadata": {},
          "execution_count": 5
        }
      ]
    },
    {
      "cell_type": "code",
      "source": [
        "bp.isnull().sum()#check null value to be remove"
      ],
      "metadata": {
        "colab": {
          "base_uri": "https://localhost:8080/"
        },
        "id": "iIq_ismVlqd7",
        "outputId": "082e62d1-405c-4f94-9bf5-3576046a7019"
      },
      "execution_count": 6,
      "outputs": [
        {
          "output_type": "execute_result",
          "data": {
            "text/plain": [
              "S.No             0\n",
              "date             0\n",
              "Temperature      0\n",
              "Humidity         0\n",
              "Light            0\n",
              "CO2              0\n",
              "HumidityRatio    0\n",
              "Occupancy        0\n",
              "dtype: int64"
            ]
          },
          "metadata": {},
          "execution_count": 6
        }
      ]
    },
    {
      "cell_type": "code",
      "source": [
        "# Remove unwanted columns\n",
        "bp1 = bp.drop(['S.No','date'],axis=1)\n",
        "bp1.head(2)"
      ],
      "metadata": {
        "colab": {
          "base_uri": "https://localhost:8080/",
          "height": 112
        },
        "id": "1kJprOe0lZ5b",
        "outputId": "1af20608-801a-443e-af19-24cb82e15019"
      },
      "execution_count": 7,
      "outputs": [
        {
          "output_type": "execute_result",
          "data": {
            "text/plain": [
              "   Temperature  Humidity  Light     CO2  HumidityRatio  Occupancy\n",
              "0        23.18   27.2720  426.0  721.25       0.004793          1\n",
              "1        23.15   27.2675  429.5  714.00       0.004783          1"
            ],
            "text/html": [
              "\n",
              "  <div id=\"df-f4949822-cbd4-48d2-8701-9e3fdfd4656e\">\n",
              "    <div class=\"colab-df-container\">\n",
              "      <div>\n",
              "<style scoped>\n",
              "    .dataframe tbody tr th:only-of-type {\n",
              "        vertical-align: middle;\n",
              "    }\n",
              "\n",
              "    .dataframe tbody tr th {\n",
              "        vertical-align: top;\n",
              "    }\n",
              "\n",
              "    .dataframe thead th {\n",
              "        text-align: right;\n",
              "    }\n",
              "</style>\n",
              "<table border=\"1\" class=\"dataframe\">\n",
              "  <thead>\n",
              "    <tr style=\"text-align: right;\">\n",
              "      <th></th>\n",
              "      <th>Temperature</th>\n",
              "      <th>Humidity</th>\n",
              "      <th>Light</th>\n",
              "      <th>CO2</th>\n",
              "      <th>HumidityRatio</th>\n",
              "      <th>Occupancy</th>\n",
              "    </tr>\n",
              "  </thead>\n",
              "  <tbody>\n",
              "    <tr>\n",
              "      <th>0</th>\n",
              "      <td>23.18</td>\n",
              "      <td>27.2720</td>\n",
              "      <td>426.0</td>\n",
              "      <td>721.25</td>\n",
              "      <td>0.004793</td>\n",
              "      <td>1</td>\n",
              "    </tr>\n",
              "    <tr>\n",
              "      <th>1</th>\n",
              "      <td>23.15</td>\n",
              "      <td>27.2675</td>\n",
              "      <td>429.5</td>\n",
              "      <td>714.00</td>\n",
              "      <td>0.004783</td>\n",
              "      <td>1</td>\n",
              "    </tr>\n",
              "  </tbody>\n",
              "</table>\n",
              "</div>\n",
              "      <button class=\"colab-df-convert\" onclick=\"convertToInteractive('df-f4949822-cbd4-48d2-8701-9e3fdfd4656e')\"\n",
              "              title=\"Convert this dataframe to an interactive table.\"\n",
              "              style=\"display:none;\">\n",
              "        \n",
              "  <svg xmlns=\"http://www.w3.org/2000/svg\" height=\"24px\"viewBox=\"0 0 24 24\"\n",
              "       width=\"24px\">\n",
              "    <path d=\"M0 0h24v24H0V0z\" fill=\"none\"/>\n",
              "    <path d=\"M18.56 5.44l.94 2.06.94-2.06 2.06-.94-2.06-.94-.94-2.06-.94 2.06-2.06.94zm-11 1L8.5 8.5l.94-2.06 2.06-.94-2.06-.94L8.5 2.5l-.94 2.06-2.06.94zm10 10l.94 2.06.94-2.06 2.06-.94-2.06-.94-.94-2.06-.94 2.06-2.06.94z\"/><path d=\"M17.41 7.96l-1.37-1.37c-.4-.4-.92-.59-1.43-.59-.52 0-1.04.2-1.43.59L10.3 9.45l-7.72 7.72c-.78.78-.78 2.05 0 2.83L4 21.41c.39.39.9.59 1.41.59.51 0 1.02-.2 1.41-.59l7.78-7.78 2.81-2.81c.8-.78.8-2.07 0-2.86zM5.41 20L4 18.59l7.72-7.72 1.47 1.35L5.41 20z\"/>\n",
              "  </svg>\n",
              "      </button>\n",
              "      \n",
              "  <style>\n",
              "    .colab-df-container {\n",
              "      display:flex;\n",
              "      flex-wrap:wrap;\n",
              "      gap: 12px;\n",
              "    }\n",
              "\n",
              "    .colab-df-convert {\n",
              "      background-color: #E8F0FE;\n",
              "      border: none;\n",
              "      border-radius: 50%;\n",
              "      cursor: pointer;\n",
              "      display: none;\n",
              "      fill: #1967D2;\n",
              "      height: 32px;\n",
              "      padding: 0 0 0 0;\n",
              "      width: 32px;\n",
              "    }\n",
              "\n",
              "    .colab-df-convert:hover {\n",
              "      background-color: #E2EBFA;\n",
              "      box-shadow: 0px 1px 2px rgba(60, 64, 67, 0.3), 0px 1px 3px 1px rgba(60, 64, 67, 0.15);\n",
              "      fill: #174EA6;\n",
              "    }\n",
              "\n",
              "    [theme=dark] .colab-df-convert {\n",
              "      background-color: #3B4455;\n",
              "      fill: #D2E3FC;\n",
              "    }\n",
              "\n",
              "    [theme=dark] .colab-df-convert:hover {\n",
              "      background-color: #434B5C;\n",
              "      box-shadow: 0px 1px 3px 1px rgba(0, 0, 0, 0.15);\n",
              "      filter: drop-shadow(0px 1px 2px rgba(0, 0, 0, 0.3));\n",
              "      fill: #FFFFFF;\n",
              "    }\n",
              "  </style>\n",
              "\n",
              "      <script>\n",
              "        const buttonEl =\n",
              "          document.querySelector('#df-f4949822-cbd4-48d2-8701-9e3fdfd4656e button.colab-df-convert');\n",
              "        buttonEl.style.display =\n",
              "          google.colab.kernel.accessAllowed ? 'block' : 'none';\n",
              "\n",
              "        async function convertToInteractive(key) {\n",
              "          const element = document.querySelector('#df-f4949822-cbd4-48d2-8701-9e3fdfd4656e');\n",
              "          const dataTable =\n",
              "            await google.colab.kernel.invokeFunction('convertToInteractive',\n",
              "                                                     [key], {});\n",
              "          if (!dataTable) return;\n",
              "\n",
              "          const docLinkHtml = 'Like what you see? Visit the ' +\n",
              "            '<a target=\"_blank\" href=https://colab.research.google.com/notebooks/data_table.ipynb>data table notebook</a>'\n",
              "            + ' to learn more about interactive tables.';\n",
              "          element.innerHTML = '';\n",
              "          dataTable['output_type'] = 'display_data';\n",
              "          await google.colab.output.renderOutput(dataTable, element);\n",
              "          const docLink = document.createElement('div');\n",
              "          docLink.innerHTML = docLinkHtml;\n",
              "          element.appendChild(docLink);\n",
              "        }\n",
              "      </script>\n",
              "    </div>\n",
              "  </div>\n",
              "  "
            ]
          },
          "metadata": {},
          "execution_count": 7
        }
      ]
    },
    {
      "cell_type": "code",
      "source": [
        "bp1.dtypes#data types"
      ],
      "metadata": {
        "colab": {
          "base_uri": "https://localhost:8080/"
        },
        "id": "HY_h7myeuk4Z",
        "outputId": "4892a2cf-0a60-4256-a27e-f99b49706a51"
      },
      "execution_count": 8,
      "outputs": [
        {
          "output_type": "execute_result",
          "data": {
            "text/plain": [
              "Temperature      float64\n",
              "Humidity         float64\n",
              "Light            float64\n",
              "CO2              float64\n",
              "HumidityRatio    float64\n",
              "Occupancy          int64\n",
              "dtype: object"
            ]
          },
          "metadata": {},
          "execution_count": 8
        }
      ]
    },
    {
      "cell_type": "code",
      "source": [
        "bp1['Occupancy'].unique()#Check unique value of Target variable"
      ],
      "metadata": {
        "colab": {
          "base_uri": "https://localhost:8080/"
        },
        "id": "cgU1uc_ItLN2",
        "outputId": "95211631-c972-4c52-cbbc-1bdadb7a7f0d"
      },
      "execution_count": 9,
      "outputs": [
        {
          "output_type": "execute_result",
          "data": {
            "text/plain": [
              "array([1, 0])"
            ]
          },
          "metadata": {},
          "execution_count": 9
        }
      ]
    },
    {
      "cell_type": "code",
      "source": [
        "from keras.models import Sequential\n",
        "from keras.layers import Dense"
      ],
      "metadata": {
        "id": "ehPYUNA4lkGN"
      },
      "execution_count": 10,
      "outputs": []
    },
    {
      "cell_type": "code",
      "source": [
        "X = bp1.drop(['Occupancy'],axis=1).values#.reshape(-1,1)#Independend variable gnerating\n",
        "y = bp1['Occupancy'].values.reshape(-1,1) #y.values.reshape(-1, 1)#Dependent variable generating"
      ],
      "metadata": {
        "id": "Bm6XpIq5ln9V"
      },
      "execution_count": 11,
      "outputs": []
    },
    {
      "cell_type": "code",
      "source": [
        "#split the dataset into testing data (30%) and training data (70%).\n",
        "from sklearn.model_selection import train_test_split\n",
        "X_train, X_test, y_train, y_test = train_test_split(X, y, test_size=0.30)"
      ],
      "metadata": {
        "id": "ZxoictIrnAhN"
      },
      "execution_count": 12,
      "outputs": []
    },
    {
      "cell_type": "code",
      "source": [
        "X_train.shape, X_test.shape"
      ],
      "metadata": {
        "colab": {
          "base_uri": "https://localhost:8080/"
        },
        "id": "_w3ERBEYvBRX",
        "outputId": "e5dea071-b524-432d-bbab-2f5af53305ea"
      },
      "execution_count": 13,
      "outputs": [
        {
          "output_type": "execute_result",
          "data": {
            "text/plain": [
              "((5700, 5), (2443, 5))"
            ]
          },
          "metadata": {},
          "execution_count": 13
        }
      ]
    },
    {
      "cell_type": "markdown",
      "source": [
        "### Build a model (ANN) in tensorflow/keras"
      ],
      "metadata": {
        "id": "jvB6fQCkvQmF"
      }
    },
    {
      "cell_type": "code",
      "source": [
        "import tensorflow as tf\n",
        "from tensorflow import keras\n",
        "\n",
        "\n",
        "model = keras.Sequential([\n",
        "    keras.layers.Dense(26, input_shape=(X_train.shape[1],), activation='relu'),#Commonly relu is good for intputm in binary classifications propblem\n",
        "    keras.layers.Dense(15, activation='relu'),#Commonly relu is good for hidden layer\n",
        "    keras.layers.Dense(1, activation='sigmoid')#Commonly sigmoid is good for output\n",
        "])\n",
        "model.compile(optimizer='adam',loss='binary_crossentropy',metrics=['accuracy'])  "
      ],
      "metadata": {
        "id": "MTbsJlqyvPfU"
      },
      "execution_count": 14,
      "outputs": []
    },
    {
      "cell_type": "code",
      "source": [
        "history = model.fit(X_train, y_train, epochs=100,batch_size=10,validation_data=(X_test, y_test))\n",
        "history"
      ],
      "metadata": {
        "colab": {
          "base_uri": "https://localhost:8080/"
        },
        "id": "ro5gyvGdwNsz",
        "outputId": "32242f92-7a01-4b35-fa3a-cda670a570ab"
      },
      "execution_count": 18,
      "outputs": [
        {
          "output_type": "stream",
          "name": "stdout",
          "text": [
            "Epoch 1/100\n",
            "570/570 [==============================] - 3s 5ms/step - loss: 0.0457 - accuracy: 0.9884 - val_loss: 0.0398 - val_accuracy: 0.9889\n",
            "Epoch 2/100\n",
            "570/570 [==============================] - 3s 5ms/step - loss: 0.0443 - accuracy: 0.9886 - val_loss: 0.0394 - val_accuracy: 0.9889\n",
            "Epoch 3/100\n",
            "570/570 [==============================] - 3s 6ms/step - loss: 0.0449 - accuracy: 0.9881 - val_loss: 0.0404 - val_accuracy: 0.9889\n",
            "Epoch 4/100\n",
            "570/570 [==============================] - 3s 5ms/step - loss: 0.0425 - accuracy: 0.9888 - val_loss: 0.0421 - val_accuracy: 0.9885\n",
            "Epoch 5/100\n",
            "570/570 [==============================] - 3s 5ms/step - loss: 0.0435 - accuracy: 0.9888 - val_loss: 0.0402 - val_accuracy: 0.9889\n",
            "Epoch 6/100\n",
            "570/570 [==============================] - 3s 5ms/step - loss: 0.0441 - accuracy: 0.9882 - val_loss: 0.0525 - val_accuracy: 0.9804\n",
            "Epoch 7/100\n",
            "570/570 [==============================] - 4s 6ms/step - loss: 0.0458 - accuracy: 0.9875 - val_loss: 0.0399 - val_accuracy: 0.9889\n",
            "Epoch 8/100\n",
            "570/570 [==============================] - 2s 4ms/step - loss: 0.0424 - accuracy: 0.9889 - val_loss: 0.0487 - val_accuracy: 0.9889\n",
            "Epoch 9/100\n",
            "570/570 [==============================] - 1s 2ms/step - loss: 0.0440 - accuracy: 0.9886 - val_loss: 0.0416 - val_accuracy: 0.9889\n",
            "Epoch 10/100\n",
            "570/570 [==============================] - 1s 2ms/step - loss: 0.0437 - accuracy: 0.9881 - val_loss: 0.0468 - val_accuracy: 0.9889\n",
            "Epoch 11/100\n",
            "570/570 [==============================] - 1s 2ms/step - loss: 0.0459 - accuracy: 0.9877 - val_loss: 0.0395 - val_accuracy: 0.9889\n",
            "Epoch 12/100\n",
            "570/570 [==============================] - 1s 2ms/step - loss: 0.0436 - accuracy: 0.9884 - val_loss: 0.0394 - val_accuracy: 0.9889\n",
            "Epoch 13/100\n",
            "570/570 [==============================] - 1s 2ms/step - loss: 0.0426 - accuracy: 0.9888 - val_loss: 0.0400 - val_accuracy: 0.9889\n",
            "Epoch 14/100\n",
            "570/570 [==============================] - 1s 2ms/step - loss: 0.0433 - accuracy: 0.9889 - val_loss: 0.0401 - val_accuracy: 0.9889\n",
            "Epoch 15/100\n",
            "570/570 [==============================] - 1s 2ms/step - loss: 0.0434 - accuracy: 0.9882 - val_loss: 0.0392 - val_accuracy: 0.9889\n",
            "Epoch 16/100\n",
            "570/570 [==============================] - 1s 2ms/step - loss: 0.0443 - accuracy: 0.9881 - val_loss: 0.0399 - val_accuracy: 0.9889\n",
            "Epoch 17/100\n",
            "570/570 [==============================] - 1s 2ms/step - loss: 0.0429 - accuracy: 0.9891 - val_loss: 0.0404 - val_accuracy: 0.9889\n",
            "Epoch 18/100\n",
            "570/570 [==============================] - 1s 2ms/step - loss: 0.0433 - accuracy: 0.9882 - val_loss: 0.0452 - val_accuracy: 0.9881\n",
            "Epoch 19/100\n",
            "570/570 [==============================] - 1s 2ms/step - loss: 0.0428 - accuracy: 0.9884 - val_loss: 0.0421 - val_accuracy: 0.9889\n",
            "Epoch 20/100\n",
            "570/570 [==============================] - 1s 2ms/step - loss: 0.0433 - accuracy: 0.9886 - val_loss: 0.0512 - val_accuracy: 0.9812\n",
            "Epoch 21/100\n",
            "570/570 [==============================] - 1s 2ms/step - loss: 0.0440 - accuracy: 0.9881 - val_loss: 0.0391 - val_accuracy: 0.9889\n",
            "Epoch 22/100\n",
            "570/570 [==============================] - 1s 2ms/step - loss: 0.0432 - accuracy: 0.9882 - val_loss: 0.0400 - val_accuracy: 0.9889\n",
            "Epoch 23/100\n",
            "570/570 [==============================] - 1s 2ms/step - loss: 0.0431 - accuracy: 0.9881 - val_loss: 0.0397 - val_accuracy: 0.9885\n",
            "Epoch 24/100\n",
            "570/570 [==============================] - 1s 2ms/step - loss: 0.0422 - accuracy: 0.9886 - val_loss: 0.0409 - val_accuracy: 0.9889\n",
            "Epoch 25/100\n",
            "570/570 [==============================] - 1s 2ms/step - loss: 0.0431 - accuracy: 0.9881 - val_loss: 0.0400 - val_accuracy: 0.9885\n",
            "Epoch 26/100\n",
            "570/570 [==============================] - 1s 2ms/step - loss: 0.0425 - accuracy: 0.9884 - val_loss: 0.0405 - val_accuracy: 0.9889\n",
            "Epoch 27/100\n",
            "570/570 [==============================] - 1s 2ms/step - loss: 0.0420 - accuracy: 0.9889 - val_loss: 0.0405 - val_accuracy: 0.9885\n",
            "Epoch 28/100\n",
            "570/570 [==============================] - 1s 2ms/step - loss: 0.0447 - accuracy: 0.9884 - val_loss: 0.0385 - val_accuracy: 0.9889\n",
            "Epoch 29/100\n",
            "570/570 [==============================] - 1s 3ms/step - loss: 0.0420 - accuracy: 0.9884 - val_loss: 0.0450 - val_accuracy: 0.9861\n",
            "Epoch 30/100\n",
            "570/570 [==============================] - 1s 2ms/step - loss: 0.0420 - accuracy: 0.9882 - val_loss: 0.0419 - val_accuracy: 0.9885\n",
            "Epoch 31/100\n",
            "570/570 [==============================] - 1s 3ms/step - loss: 0.0413 - accuracy: 0.9886 - val_loss: 0.0390 - val_accuracy: 0.9889\n",
            "Epoch 32/100\n",
            "570/570 [==============================] - 1s 3ms/step - loss: 0.0425 - accuracy: 0.9879 - val_loss: 0.0418 - val_accuracy: 0.9885\n",
            "Epoch 33/100\n",
            "570/570 [==============================] - 1s 3ms/step - loss: 0.0429 - accuracy: 0.9882 - val_loss: 0.0384 - val_accuracy: 0.9894\n",
            "Epoch 34/100\n",
            "570/570 [==============================] - 1s 2ms/step - loss: 0.0424 - accuracy: 0.9886 - val_loss: 0.0414 - val_accuracy: 0.9869\n",
            "Epoch 35/100\n",
            "570/570 [==============================] - 1s 2ms/step - loss: 0.0426 - accuracy: 0.9889 - val_loss: 0.0384 - val_accuracy: 0.9889\n",
            "Epoch 36/100\n",
            "570/570 [==============================] - 1s 2ms/step - loss: 0.0428 - accuracy: 0.9881 - val_loss: 0.0396 - val_accuracy: 0.9885\n",
            "Epoch 37/100\n",
            "570/570 [==============================] - 1s 2ms/step - loss: 0.0404 - accuracy: 0.9884 - val_loss: 0.0412 - val_accuracy: 0.9885\n",
            "Epoch 38/100\n",
            "570/570 [==============================] - 1s 2ms/step - loss: 0.0467 - accuracy: 0.9868 - val_loss: 0.0391 - val_accuracy: 0.9894\n",
            "Epoch 39/100\n",
            "570/570 [==============================] - 1s 2ms/step - loss: 0.0415 - accuracy: 0.9882 - val_loss: 0.0378 - val_accuracy: 0.9889\n",
            "Epoch 40/100\n",
            "570/570 [==============================] - 1s 2ms/step - loss: 0.0413 - accuracy: 0.9886 - val_loss: 0.0408 - val_accuracy: 0.9877\n",
            "Epoch 41/100\n",
            "570/570 [==============================] - 1s 2ms/step - loss: 0.0429 - accuracy: 0.9874 - val_loss: 0.0369 - val_accuracy: 0.9898\n",
            "Epoch 42/100\n",
            "570/570 [==============================] - 1s 2ms/step - loss: 0.0432 - accuracy: 0.9888 - val_loss: 0.0410 - val_accuracy: 0.9885\n",
            "Epoch 43/100\n",
            "570/570 [==============================] - 1s 2ms/step - loss: 0.0466 - accuracy: 0.9884 - val_loss: 0.0405 - val_accuracy: 0.9889\n",
            "Epoch 44/100\n",
            "570/570 [==============================] - 1s 2ms/step - loss: 0.0418 - accuracy: 0.9893 - val_loss: 0.0432 - val_accuracy: 0.9881\n",
            "Epoch 45/100\n",
            "570/570 [==============================] - 1s 2ms/step - loss: 0.0427 - accuracy: 0.9884 - val_loss: 0.0389 - val_accuracy: 0.9885\n",
            "Epoch 46/100\n",
            "570/570 [==============================] - 1s 2ms/step - loss: 0.0416 - accuracy: 0.9884 - val_loss: 0.0404 - val_accuracy: 0.9885\n",
            "Epoch 47/100\n",
            "570/570 [==============================] - 1s 2ms/step - loss: 0.0413 - accuracy: 0.9874 - val_loss: 0.0413 - val_accuracy: 0.9885\n",
            "Epoch 48/100\n",
            "570/570 [==============================] - 1s 2ms/step - loss: 0.0392 - accuracy: 0.9891 - val_loss: 0.0368 - val_accuracy: 0.9889\n",
            "Epoch 49/100\n",
            "570/570 [==============================] - 1s 2ms/step - loss: 0.0398 - accuracy: 0.9884 - val_loss: 0.0399 - val_accuracy: 0.9885\n",
            "Epoch 50/100\n",
            "570/570 [==============================] - 1s 2ms/step - loss: 0.0414 - accuracy: 0.9888 - val_loss: 0.0420 - val_accuracy: 0.9885\n",
            "Epoch 51/100\n",
            "570/570 [==============================] - 1s 3ms/step - loss: 0.0418 - accuracy: 0.9882 - val_loss: 0.0381 - val_accuracy: 0.9889\n",
            "Epoch 52/100\n",
            "570/570 [==============================] - 1s 3ms/step - loss: 0.0410 - accuracy: 0.9882 - val_loss: 0.0424 - val_accuracy: 0.9889\n",
            "Epoch 53/100\n",
            "570/570 [==============================] - 1s 3ms/step - loss: 0.0411 - accuracy: 0.9882 - val_loss: 0.0398 - val_accuracy: 0.9885\n",
            "Epoch 54/100\n",
            "570/570 [==============================] - 1s 2ms/step - loss: 0.0413 - accuracy: 0.9884 - val_loss: 0.0384 - val_accuracy: 0.9885\n",
            "Epoch 55/100\n",
            "570/570 [==============================] - 1s 3ms/step - loss: 0.0403 - accuracy: 0.9886 - val_loss: 0.0392 - val_accuracy: 0.9898\n",
            "Epoch 56/100\n",
            "570/570 [==============================] - 1s 2ms/step - loss: 0.0400 - accuracy: 0.9884 - val_loss: 0.0370 - val_accuracy: 0.9898\n",
            "Epoch 57/100\n",
            "570/570 [==============================] - 1s 2ms/step - loss: 0.0411 - accuracy: 0.9889 - val_loss: 0.0385 - val_accuracy: 0.9889\n",
            "Epoch 58/100\n",
            "570/570 [==============================] - 1s 3ms/step - loss: 0.0400 - accuracy: 0.9889 - val_loss: 0.0378 - val_accuracy: 0.9889\n",
            "Epoch 59/100\n",
            "570/570 [==============================] - 2s 3ms/step - loss: 0.0432 - accuracy: 0.9868 - val_loss: 0.0413 - val_accuracy: 0.9885\n",
            "Epoch 60/100\n",
            "570/570 [==============================] - 3s 6ms/step - loss: 0.0397 - accuracy: 0.9889 - val_loss: 0.0412 - val_accuracy: 0.9885\n",
            "Epoch 61/100\n",
            "570/570 [==============================] - 3s 5ms/step - loss: 0.0425 - accuracy: 0.9877 - val_loss: 0.0385 - val_accuracy: 0.9885\n",
            "Epoch 62/100\n",
            "570/570 [==============================] - 3s 5ms/step - loss: 0.0421 - accuracy: 0.9884 - val_loss: 0.0429 - val_accuracy: 0.9889\n",
            "Epoch 63/100\n",
            "570/570 [==============================] - 3s 5ms/step - loss: 0.0400 - accuracy: 0.9886 - val_loss: 0.0388 - val_accuracy: 0.9885\n",
            "Epoch 64/100\n",
            "570/570 [==============================] - 2s 4ms/step - loss: 0.0417 - accuracy: 0.9888 - val_loss: 0.0420 - val_accuracy: 0.9885\n",
            "Epoch 65/100\n",
            "570/570 [==============================] - 2s 4ms/step - loss: 0.0394 - accuracy: 0.9889 - val_loss: 0.0422 - val_accuracy: 0.9885\n",
            "Epoch 66/100\n",
            "570/570 [==============================] - 2s 4ms/step - loss: 0.0405 - accuracy: 0.9886 - val_loss: 0.0396 - val_accuracy: 0.9885\n",
            "Epoch 67/100\n",
            "570/570 [==============================] - 2s 4ms/step - loss: 0.0409 - accuracy: 0.9879 - val_loss: 0.0405 - val_accuracy: 0.9881\n",
            "Epoch 68/100\n",
            "570/570 [==============================] - 2s 4ms/step - loss: 0.0408 - accuracy: 0.9886 - val_loss: 0.0394 - val_accuracy: 0.9885\n",
            "Epoch 69/100\n",
            "570/570 [==============================] - 3s 5ms/step - loss: 0.0400 - accuracy: 0.9888 - val_loss: 0.0365 - val_accuracy: 0.9889\n",
            "Epoch 70/100\n",
            "570/570 [==============================] - 2s 4ms/step - loss: 0.0406 - accuracy: 0.9889 - val_loss: 0.0386 - val_accuracy: 0.9894\n",
            "Epoch 71/100\n",
            "570/570 [==============================] - 3s 5ms/step - loss: 0.0419 - accuracy: 0.9884 - val_loss: 0.0390 - val_accuracy: 0.9889\n",
            "Epoch 72/100\n",
            "570/570 [==============================] - 3s 4ms/step - loss: 0.0408 - accuracy: 0.9886 - val_loss: 0.0381 - val_accuracy: 0.9889\n",
            "Epoch 73/100\n",
            "570/570 [==============================] - 2s 4ms/step - loss: 0.0395 - accuracy: 0.9886 - val_loss: 0.0384 - val_accuracy: 0.9889\n",
            "Epoch 74/100\n",
            "570/570 [==============================] - 3s 5ms/step - loss: 0.0402 - accuracy: 0.9886 - val_loss: 0.0385 - val_accuracy: 0.9881\n",
            "Epoch 75/100\n",
            "570/570 [==============================] - 2s 3ms/step - loss: 0.0395 - accuracy: 0.9889 - val_loss: 0.0391 - val_accuracy: 0.9885\n",
            "Epoch 76/100\n",
            "570/570 [==============================] - 1s 2ms/step - loss: 0.0410 - accuracy: 0.9889 - val_loss: 0.0401 - val_accuracy: 0.9889\n",
            "Epoch 77/100\n",
            "570/570 [==============================] - 1s 2ms/step - loss: 0.0401 - accuracy: 0.9879 - val_loss: 0.0405 - val_accuracy: 0.9881\n",
            "Epoch 78/100\n",
            "570/570 [==============================] - 1s 2ms/step - loss: 0.0390 - accuracy: 0.9889 - val_loss: 0.0393 - val_accuracy: 0.9889\n",
            "Epoch 79/100\n",
            "570/570 [==============================] - 1s 2ms/step - loss: 0.0389 - accuracy: 0.9886 - val_loss: 0.0397 - val_accuracy: 0.9889\n",
            "Epoch 80/100\n",
            "570/570 [==============================] - 1s 2ms/step - loss: 0.0440 - accuracy: 0.9879 - val_loss: 0.0412 - val_accuracy: 0.9889\n",
            "Epoch 81/100\n",
            "570/570 [==============================] - 2s 3ms/step - loss: 0.0420 - accuracy: 0.9881 - val_loss: 0.0384 - val_accuracy: 0.9885\n",
            "Epoch 82/100\n",
            "570/570 [==============================] - 3s 5ms/step - loss: 0.0412 - accuracy: 0.9888 - val_loss: 0.0376 - val_accuracy: 0.9889\n",
            "Epoch 83/100\n",
            "570/570 [==============================] - 4s 6ms/step - loss: 0.0398 - accuracy: 0.9886 - val_loss: 0.0380 - val_accuracy: 0.9889\n",
            "Epoch 84/100\n",
            "570/570 [==============================] - 3s 6ms/step - loss: 0.0397 - accuracy: 0.9879 - val_loss: 0.0415 - val_accuracy: 0.9885\n",
            "Epoch 85/100\n",
            "570/570 [==============================] - 4s 6ms/step - loss: 0.0414 - accuracy: 0.9882 - val_loss: 0.0398 - val_accuracy: 0.9889\n",
            "Epoch 86/100\n",
            "570/570 [==============================] - 2s 4ms/step - loss: 0.0381 - accuracy: 0.9888 - val_loss: 0.0411 - val_accuracy: 0.9885\n",
            "Epoch 87/100\n",
            "570/570 [==============================] - 3s 5ms/step - loss: 0.0405 - accuracy: 0.9884 - val_loss: 0.0366 - val_accuracy: 0.9889\n",
            "Epoch 88/100\n",
            "570/570 [==============================] - 4s 6ms/step - loss: 0.0419 - accuracy: 0.9879 - val_loss: 0.0399 - val_accuracy: 0.9885\n",
            "Epoch 89/100\n",
            "570/570 [==============================] - 4s 8ms/step - loss: 0.0401 - accuracy: 0.9884 - val_loss: 0.0383 - val_accuracy: 0.9889\n",
            "Epoch 90/100\n",
            "570/570 [==============================] - 2s 4ms/step - loss: 0.0397 - accuracy: 0.9884 - val_loss: 0.0440 - val_accuracy: 0.9881\n",
            "Epoch 91/100\n",
            "570/570 [==============================] - 4s 7ms/step - loss: 0.0408 - accuracy: 0.9888 - val_loss: 0.0384 - val_accuracy: 0.9889\n",
            "Epoch 92/100\n",
            "570/570 [==============================] - 3s 6ms/step - loss: 0.0411 - accuracy: 0.9884 - val_loss: 0.0368 - val_accuracy: 0.9885\n",
            "Epoch 93/100\n",
            "570/570 [==============================] - 3s 5ms/step - loss: 0.0420 - accuracy: 0.9882 - val_loss: 0.0473 - val_accuracy: 0.9857\n",
            "Epoch 94/100\n",
            "570/570 [==============================] - 3s 5ms/step - loss: 0.0426 - accuracy: 0.9877 - val_loss: 0.0376 - val_accuracy: 0.9885\n",
            "Epoch 95/100\n",
            "570/570 [==============================] - 2s 4ms/step - loss: 0.0408 - accuracy: 0.9889 - val_loss: 0.0406 - val_accuracy: 0.9885\n",
            "Epoch 96/100\n",
            "570/570 [==============================] - 2s 4ms/step - loss: 0.0395 - accuracy: 0.9886 - val_loss: 0.0399 - val_accuracy: 0.9889\n",
            "Epoch 97/100\n",
            "570/570 [==============================] - 3s 4ms/step - loss: 0.0389 - accuracy: 0.9888 - val_loss: 0.0358 - val_accuracy: 0.9889\n",
            "Epoch 98/100\n",
            "570/570 [==============================] - 2s 4ms/step - loss: 0.0394 - accuracy: 0.9882 - val_loss: 0.0382 - val_accuracy: 0.9885\n",
            "Epoch 99/100\n",
            "570/570 [==============================] - 3s 5ms/step - loss: 0.0400 - accuracy: 0.9893 - val_loss: 0.0363 - val_accuracy: 0.9898\n",
            "Epoch 100/100\n",
            "570/570 [==============================] - 2s 4ms/step - loss: 0.0401 - accuracy: 0.9884 - val_loss: 0.0372 - val_accuracy: 0.9885\n"
          ]
        },
        {
          "output_type": "execute_result",
          "data": {
            "text/plain": [
              "<keras.callbacks.History at 0x7fadd32cd090>"
            ]
          },
          "metadata": {},
          "execution_count": 18
        }
      ]
    },
    {
      "cell_type": "code",
      "source": [
        "#What is the highest testing accuracy you were able to achieve from the model?\n",
        "loss, accuracy=model.evaluate(X_test, y_test)\n",
        "print(\"loss\", loss)\n",
        "print(\"accuracy\", accuracy)#Accuracy means correct predictions"
      ],
      "metadata": {
        "colab": {
          "base_uri": "https://localhost:8080/"
        },
        "id": "NvJnR8mI0u7M",
        "outputId": "e267480d-477b-46e1-81a5-e29a88f78bfa"
      },
      "execution_count": 19,
      "outputs": [
        {
          "output_type": "stream",
          "name": "stdout",
          "text": [
            "77/77 [==============================] - 0s 1ms/step - loss: 0.0372 - accuracy: 0.9885\n",
            "loss 0.03721233457326889\n",
            "accuracy 0.9885386824607849\n"
          ]
        }
      ]
    },
    {
      "cell_type": "code",
      "source": [
        "#Let's check our prediction\n",
        "yp=model.predict(X_test)\n",
        "yp[:5]"
      ],
      "metadata": {
        "colab": {
          "base_uri": "https://localhost:8080/"
        },
        "id": "n4FD7snm2OI2",
        "outputId": "9c59fe4d-0527-4b94-fa24-6eefa068f504"
      },
      "execution_count": 20,
      "outputs": [
        {
          "output_type": "execute_result",
          "data": {
            "text/plain": [
              "array([[9.0420789e-01],\n",
              "       [9.1203117e-01],\n",
              "       [1.8844018e-10],\n",
              "       [1.1471204e-11],\n",
              "       [2.6219001e-12]], dtype=float32)"
            ]
          },
          "metadata": {},
          "execution_count": 20
        }
      ]
    },
    {
      "cell_type": "code",
      "source": [
        "#Convert to normal Occupancy \n",
        "y_pred = []\n",
        "for element in yp:\n",
        "    if element > 0.5:\n",
        "        y_pred.append(1)\n",
        "    else:\n",
        "        y_pred.append(0)"
      ],
      "metadata": {
        "id": "4Poxid652ZN4"
      },
      "execution_count": 21,
      "outputs": []
    },
    {
      "cell_type": "code",
      "source": [
        "y_pred[:10]"
      ],
      "metadata": {
        "colab": {
          "base_uri": "https://localhost:8080/"
        },
        "id": "26LkPSdt2l8M",
        "outputId": "5c4749f8-941a-47a6-9397-0845954a84f6"
      },
      "execution_count": 22,
      "outputs": [
        {
          "output_type": "execute_result",
          "data": {
            "text/plain": [
              "[1, 1, 0, 0, 0, 0, 0, 1, 1, 0]"
            ]
          },
          "metadata": {},
          "execution_count": 22
        }
      ]
    },
    {
      "cell_type": "code",
      "source": [
        "y_test[:10]"
      ],
      "metadata": {
        "colab": {
          "base_uri": "https://localhost:8080/"
        },
        "id": "3rcWV8BB2w4X",
        "outputId": "1606fe85-16e9-469c-ef73-f1a91bf4e1f4"
      },
      "execution_count": 23,
      "outputs": [
        {
          "output_type": "execute_result",
          "data": {
            "text/plain": [
              "array([[0],\n",
              "       [1],\n",
              "       [0],\n",
              "       [0],\n",
              "       [0],\n",
              "       [0],\n",
              "       [0],\n",
              "       [1],\n",
              "       [1],\n",
              "       [0]])"
            ]
          },
          "metadata": {},
          "execution_count": 23
        }
      ]
    },
    {
      "cell_type": "code",
      "source": [
        "from sklearn.metrics import confusion_matrix , classification_report\n",
        "print(classification_report(y_test,y_pred))"
      ],
      "metadata": {
        "colab": {
          "base_uri": "https://localhost:8080/"
        },
        "id": "HXnRov5HtXEs",
        "outputId": "5b1639ab-56fb-44be-94bf-58b495a754b3"
      },
      "execution_count": 24,
      "outputs": [
        {
          "output_type": "stream",
          "name": "stdout",
          "text": [
            "              precision    recall  f1-score   support\n",
            "\n",
            "           0       1.00      0.99      0.99      1937\n",
            "           1       0.95      1.00      0.97       506\n",
            "\n",
            "    accuracy                           0.99      2443\n",
            "   macro avg       0.97      0.99      0.98      2443\n",
            "weighted avg       0.99      0.99      0.99      2443\n",
            "\n"
          ]
        }
      ]
    },
    {
      "cell_type": "markdown",
      "source": [
        "accuracy - 99%"
      ],
      "metadata": {
        "id": "iQK2Rpsqc06L"
      }
    },
    {
      "cell_type": "code",
      "source": [
        "import seaborn as sn\n",
        "from matplotlib import pyplot as plt\n",
        "cm = tf.math.confusion_matrix(labels=y_test,predictions=y_pred)\n",
        "\n",
        "plt.figure(figsize = (10,7))\n",
        "sn.heatmap(cm, annot=True, fmt='d')\n",
        "plt.xlabel('Predicted')\n",
        "plt.ylabel('Truth')"
      ],
      "metadata": {
        "colab": {
          "base_uri": "https://localhost:8080/",
          "height": 460
        },
        "id": "FjYEwUEp2HG8",
        "outputId": "77976667-c1b4-407c-f023-3721862c12a6"
      },
      "execution_count": 25,
      "outputs": [
        {
          "output_type": "execute_result",
          "data": {
            "text/plain": [
              "Text(69.0, 0.5, 'Truth')"
            ]
          },
          "metadata": {},
          "execution_count": 25
        },
        {
          "output_type": "display_data",
          "data": {
            "text/plain": [
              "<Figure size 720x504 with 2 Axes>"
            ],
            "image/png": "[encoded data removed]"
          },
          "metadata": {
            "needs_background": "light"
          }
        }
      ]
    },
    {
      "cell_type": "code",
      "source": [
        "history_dict = history.history\n",
        "print(history_dict.keys())"
      ],
      "metadata": {
        "colab": {
          "base_uri": "https://localhost:8080/"
        },
        "id": "n0_V-FMD56GO",
        "outputId": "ac811768-076f-47f1-fad3-323b1c42d331"
      },
      "execution_count": 26,
      "outputs": [
        {
          "output_type": "stream",
          "name": "stdout",
          "text": [
            "dict_keys(['loss', 'accuracy', 'val_loss', 'val_accuracy'])\n"
          ]
        }
      ]
    },
    {
      "cell_type": "code",
      "source": [
        "#accuracy = history_dict['accuracy']\n",
        "#val_accuracy = history_dict['val_acccuracy']"
      ],
      "metadata": {
        "id": "mY9w9Kx56Qp5"
      },
      "execution_count": 27,
      "outputs": []
    },
    {
      "cell_type": "code",
      "source": [
        "#Plot the training accuracy and the testing accuracy with the no of epochs in one plot\n",
        "trainloss = history.history['accuracy']\n",
        "valid_loss = history.history['val_accuracy']\n",
        "epochs = range(1,101)\n",
        "plt.plot(epochs, trainloss, 'g', label='Training accuracy')\n",
        "plt.plot(epochs, valid_loss, 'b', label='validation accuracy')\n",
        "plt.title('Training and Validation accuracy')\n",
        "plt.xlabel('# of Epochs')\n",
        "plt.ylabel('Accuracy %')\n",
        "plt.legend()\n",
        "plt.show()"
      ],
      "metadata": {
        "colab": {
          "base_uri": "https://localhost:8080/",
          "height": 295
        },
        "id": "e7RqYF3_257l",
        "outputId": "524af43c-df3e-4cc9-f3d2-9aa2ddb10265"
      },
      "execution_count": 29,
      "outputs": [
        {
          "output_type": "display_data",
          "data": {
            "text/plain": [
              "<Figure size 432x288 with 1 Axes>"
            ],
            "image/png": "[encoded data removed]"
          },
          "metadata": {
            "needs_background": "light"
          }
        }
      ]
    },
    {
      "cell_type": "code",
      "source": [
        ""
      ],
      "metadata": {
        "id": "R3AcY--V3pO2"
      },
      "execution_count": null,
      "outputs": []
    }
  ]
}